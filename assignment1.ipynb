{
 "cells": [
  {
   "cell_type": "markdown",
   "id": "69ed42cf",
   "metadata": {},
   "source": [
    "### Question2:\n",
    "\n",
    "2.1 What is the cardinality of the full set of unique items?\n"
   ]
  },
  {
   "cell_type": "code",
   "execution_count": 12,
   "id": "c51518a6",
   "metadata": {},
   "outputs": [
    {
     "name": "stdout",
     "output_type": "stream",
     "text": [
      "27\n"
     ]
    }
   ],
   "source": [
    "import csv\n",
    "import pandas\n",
    "\n",
    "def cardinality(filename):\n",
    "  f = open(filename)\n",
    "  reader = csv.reader(f)\n",
    "  return reader\n",
    "data = cardinality(\"basket_data.csv\")\n",
    "wholeLis = set()\n",
    "for row in data:\n",
    "  for word in row:\n",
    "    wholeLis.add(word)\n",
    "print(len(wholeLis))"
   ]
  },
  {
   "cell_type": "markdown",
   "id": "14ad59bf",
   "metadata": {},
   "source": [
    "2.2 How many sets with unique items can there possibly be?\n",
    "\n",
    "My Answer: 27\n"
   ]
  },
  {
   "cell_type": "markdown",
   "id": "46bd92f0",
   "metadata": {},
   "source": [
    "2.3 Write a module called all_itemsets()\n"
   ]
  },
  {
   "cell_type": "code",
   "execution_count": 11,
   "id": "171f28ac",
   "metadata": {},
   "outputs": [
    {
     "name": "stdout",
     "output_type": "stream",
     "text": [
      "16\n"
     ]
    }
   ],
   "source": [
    "import itertools\n",
    "res =[]\n",
    "def all_itemsets(reader):\n",
    "  wholeLis = set(reader)\n",
    "  # all possible subsets\n",
    "  for L in range(len(wholeLis) + 1):\n",
    "    for subset in itertools.combinations(wholeLis, L):\n",
    "      res.append(subset)\n",
    "  return res\n",
    "print(len(all_itemsets(['a','b','c','d'])))"
   ]
  },
  {
   "cell_type": "markdown",
   "id": "de2a5c17",
   "metadata": {},
   "source": [
    "2.4 Write a module called prob_S with the following input/output:\n"
   ]
  },
  {
   "cell_type": "code",
   "execution_count": null,
   "id": "08cce30a",
   "metadata": {},
   "outputs": [],
   "source": [
    "def prob_S(S, D):\n",
    "    count = 0\n",
    "    for row in data:\n",
    "        if row == S:\n",
    "            count += 1\n",
    "    res = count/ len(D)"
   ]
  },
  {
   "cell_type": "markdown",
   "id": "9bc79604",
   "metadata": {},
   "source": [
    "\n",
    "#### Question3\n",
    "3.1 How many total records are there?\n"
   ]
  },
  {
   "cell_type": "markdown",
   "id": "59ced272",
   "metadata": {},
   "source": [
    "My answer: 24053764 + 26977591 + 22601629 + 26847523 = 100480507, there is about 100,480,507 total records."
   ]
  },
  {
   "cell_type": "code",
   "execution_count": 42,
   "id": "19c33678",
   "metadata": {},
   "outputs": [
    {
     "name": "stdout",
     "output_type": "stream",
     "text": [
      "26847523\n"
     ]
    }
   ],
   "source": [
    "lines = open(\"combined_data_1.txt\")\n",
    "number_records = 0\n",
    "\n",
    "for line in lines:\n",
    "  if \":\" in line:\n",
    "    continue\n",
    "  else:\n",
    "    number_records += 1\n",
    "print(number_records)"
   ]
  },
  {
   "cell_type": "markdown",
   "id": "f4e7adce",
   "metadata": {},
   "source": [
    "3.2 Can you plot the distribution of star ratings over users and time? The granularity of the sliding window is at your discretion. Are there any trends?\n"
   ]
  },
  {
   "cell_type": "markdown",
   "id": "fb8cc563",
   "metadata": {},
   "source": [
    "My answer: as graph showed below, as the number of rating increase, the number of user decrease."
   ]
  },
  {
   "cell_type": "code",
   "execution_count": 7,
   "id": "2f3ed2bb",
   "metadata": {},
   "outputs": [
    {
     "data": {
      "text/plain": [
       "<AxesSubplot: ylabel='Frequency'>"
      ]
     },
     "execution_count": 7,
     "metadata": {},
     "output_type": "execute_result"
    },
    {
     "data": {
      "image/png": "[encoded data removed]",
      "text/plain": [
       "<Figure size 640x480 with 1 Axes>"
      ]
     },
     "metadata": {},
     "output_type": "display_data"
    }
   ],
   "source": [
    "import pandas as pd\n",
    "# %pip install matplotlib\n",
    "import matplotlib.pyplot as plt\n",
    "#CustomerID,Rating,Date\n",
    "df = pd.read_csv('combined_data_1.txt', delimiter = \",\",names=['customerId', 'rating', 'date'])\n",
    "df['year'] = pd.DatetimeIndex(df['date']).year\n",
    "df.plot(kind = 'hist', x = 'rating', y = 'year')"
   ]
  },
  {
   "cell_type": "markdown",
   "id": "375d8a50",
   "metadata": {},
   "source": [
    "3.3 What percentage of the films have gotten more popular over time?\n"
   ]
  },
  {
   "cell_type": "markdown",
   "id": "fb60d2a1",
   "metadata": {},
   "source": [
    "My answer: 3373/4499 = 75%, so there are 75% films have been more popular overtime"
   ]
  },
  {
   "cell_type": "code",
   "execution_count": 5,
   "id": "3ce8f062",
   "metadata": {},
   "outputs": [
    {
     "name": "stdout",
     "output_type": "stream",
     "text": [
      "3373\n"
     ]
    },
    {
     "data": {
      "text/plain": [
       "4499"
      ]
     },
     "execution_count": 5,
     "metadata": {},
     "output_type": "execute_result"
    }
   ],
   "source": [
    "lines = open(\"combined_data_1.txt\")\n",
    "number_records = 0\n",
    "movie_dates = dict()\n",
    "movie_ratings = dict()\n",
    "\n",
    "for line in lines:\n",
    "  # New movie\n",
    "  if \":\" in line:\n",
    "    movie_key = int(line.split(\":\")[0])\n",
    "    movie_dates[movie_key] = []\n",
    "    movie_ratings[movie_key] = []\n",
    "    continue\n",
    "  # Parse the line\n",
    "  else:\n",
    "    items = line.split(\",\")\n",
    "    movie_dates[movie_key].append( items[2][:-1] )\n",
    "    movie_ratings[movie_key].append( int(items[1]) )\n",
    "    number_records += 1\n",
    "\n",
    "popular_or_not = 0\n",
    "for movie_key in movie_dates:\n",
    "  movie_date_list = movie_dates[movie_key]\n",
    "  movie_last =  movie_date_list.index(max(movie_date_list))\n",
    "  movie_first = movie_date_list.index(min(movie_date_list))\n",
    "  popular_or_not += int((movie_ratings[movie_key][movie_last] - \n",
    "                         movie_ratings[movie_key][movie_first]) >= 0)\n",
    "\n",
    "print(popular_or_not)\n",
    "len(movie_dates.keys())"
   ]
  },
  {
   "cell_type": "markdown",
   "id": "48582cce",
   "metadata": {},
   "source": [
    "3.4 How many films have been re-released? How do you know?\n"
   ]
  },
  {
   "cell_type": "markdown",
   "id": "1eaf39f8",
   "metadata": {},
   "source": [
    "Becuase movie_titles.csv has 17770 lines with 17770 unique ids, and each id appears once, so I guess that means none of the movie is re-released."
   ]
  },
  {
   "cell_type": "markdown",
   "id": "ebb3eda4",
   "metadata": {},
   "source": [
    "3.5 What other information might we try to extract to better understand the data? For the questions that you may come up with (especially any time series data), make sure you back up your assertions with plots. Go ahead and play around with the data, and explore.\n"
   ]
  },
  {
   "cell_type": "markdown",
   "id": "72bcc1bc",
   "metadata": {},
   "source": [
    "From the histograph I made below, it looks like the number of users and the number of rating is in a opposite relationship. While one variable increase the other variable decrease and vice versa."
   ]
  },
  {
   "cell_type": "code",
   "execution_count": 10,
   "id": "c4d9a8a9",
   "metadata": {},
   "outputs": [
    {
     "data": {
      "image/png": "[encoded data removed]",
      "text/plain": [
       "<Figure size 640x480 with 1 Axes>"
      ]
     },
     "metadata": {},
     "output_type": "display_data"
    }
   ],
   "source": [
    "import pandas as pd\n",
    "import matplotlib.pyplot as plt\n",
    "\n",
    "# Create a DataFrame from the combined data file\n",
    "ratings_df = pd.read_csv('combined_data_1.txt', names=['userId', 'rating', 'timestamp'])\n",
    "ratings_df['timestamp'] = pd.to_datetime(ratings_df['timestamp'])\n",
    "ratings_df['year'] = ratings_df['timestamp'].dt.year\n",
    "\n",
    "# Group the data by userId and year to get the number of ratings for each user and for each time window\n",
    "num_ratings_df = ratings_df.groupby(['userId','year']).size().reset_index(name='num_ratings')\n",
    "\n",
    "# Create a histogram of the number of ratings for each user\n",
    "plt.hist(num_ratings_df.groupby('userId').sum()['num_ratings'], bins=50, range=[0, 500])\n",
    "plt.xlabel('Number of ratings')\n",
    "plt.ylabel('Number of users')\n",
    "plt.title('Histogram of number of ratings per user')\n",
    "plt.show()"
   ]
  },
  {
   "cell_type": "markdown",
   "id": "aad6739c",
   "metadata": {},
   "source": [
    "3.6 What are some interesting problems that we might solve? (No need to actually solve them!)"
   ]
  },
  {
   "cell_type": "markdown",
   "id": "facda721",
   "metadata": {},
   "source": [
    "Maybe use the qualifying.txt and movie title.csv to find what's the  most frequent words in movies' title of netflix prize and what movies has the most customer rating. For each each, does the title length related to the netflix prize movies? I am not sure if it can be solved, but it should be interesting to see the relationship."
   ]
  }
 ],
 "metadata": {
  "kernelspec": {
   "display_name": "Python 3.8.9 64-bit",
   "language": "python",
   "name": "python3"
  },
  "language_info": {
   "codemirror_mode": {
    "name": "ipython",
    "version": 3
   },
   "file_extension": ".py",
   "mimetype": "text/x-python",
   "name": "python",
   "nbconvert_exporter": "python",
   "pygments_lexer": "ipython3",
   "version": "3.8.9"
  },
  "vscode": {
   "interpreter": {
    "hash": "31f2aee4e71d21fbe5cf8b01ff0e069b9275f58929596ceb00d14d90e3e16cd6"
   }
  }
 },
 "nbformat": 4,
 "nbformat_minor": 5
}
